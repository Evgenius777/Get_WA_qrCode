{
  "nbformat": 4,
  "nbformat_minor": 0,
  "metadata": {
    "colab": {
      "name": "Untitled4.ipynb",
      "provenance": [],
      "collapsed_sections": [],
      "include_colab_link": true
    },
    "kernelspec": {
      "name": "python3",
      "display_name": "Python 3"
    },
    "language_info": {
      "name": "python"
    }
  },
  "cells": [
    {
      "cell_type": "markdown",
      "metadata": {
        "id": "view-in-github",
        "colab_type": "text"
      },
      "source": [
        "<a href=\"https://colab.research.google.com/github/Evgenius777/Get_WA_qrCode/blob/main/Untitled4.ipynb\" target=\"_parent\"><img src=\"https://colab.research.google.com/assets/colab-badge.svg\" alt=\"Open In Colab\"/></a>"
      ]
    },
    {
      "cell_type": "code",
      "execution_count": 1,
      "metadata": {
        "id": "GH7-vR-oLHcX"
      },
      "outputs": [],
      "source": [
        "import requests\n",
        "import json\n",
        "import base64\n",
        "from PIL import Image\n",
        "import io"
      ]
    },
    {
      "cell_type": "code",
      "source": [
        "def get_test_req():\n",
        "    \n",
        "    url = \"https://dev.wapp.im/v3/chat/spare?crm=TEST&domain=test\"\n",
        "    payload={}\n",
        "    headers = {\n",
        "    'X-Whatsapp-Token': '5d8af8faaeb61680883a850be0c577e2'\n",
        "    }\n",
        "    response = requests.request(\"GET\", url, headers=headers, data=payload)\n",
        "    test_resp = response.text\n",
        "    return test_resp"
      ],
      "metadata": {
        "id": "2N6xm2Ghhvt1"
      },
      "execution_count": 4,
      "outputs": []
    },
    {
      "cell_type": "code",
      "source": [
        "print(get_test_req())"
      ],
      "metadata": {
        "id": "1CiZ6N7nhx6g",
        "outputId": "bba7abe4-eda2-4c61-f9e3-b03a8d400d0f",
        "colab": {
          "base_uri": "https://localhost:8080/"
        }
      },
      "execution_count": 5,
      "outputs": [
        {
          "output_type": "stream",
          "name": "stdout",
          "text": [
            "{\"id\":6,\"instanceId\":\"2a01:4f8:c17:ac8:3::7\",\"token\":\"HNA7L_PAXxK5u15b\",\"chat_id\":\"2a01:4f8:c17:ac8:3::7\",\"md\":0,\"chat_token\":\"HNA7L_PAXxK5u15b\",\"chat_key\":\"b3e18c7fcaa2ff6a4ec2b6f55dd29399\",\"apikey\":\"b3e18c7fcaa2ff6a4ec2b6f55dd29399\",\"date_add\":1645467942,\"date_trial\":null,\"date_pay\":1645015900,\"date_subscription\":1647607900,\"phone\":\"\",\"name\":\"\",\"platform\":\"\",\"status\":0,\"is_premium\":0}\n"
          ]
        }
      ]
    },
    {
      "cell_type": "code",
      "source": [
        "def get_answer(get_test_req):\n",
        "  answer_resp = json.loads(get_test_req())\n",
        "  id = answer_resp[\"id\"] #instanceId\n",
        "  token = answer_resp[\"token\"]\n",
        "  payload={}\n",
        "  phone = \"89872745052\"\n",
        "  headers = {\n",
        "    'X-Whatsapp-Token': '5d8af8faaeb61680883a850be0c577e2'\n",
        "    }\n",
        "  #headers = {\"X-Tasktest-Token: f62cdf1e83bc324ba23aee3b113c6249\"}\n",
        "  chat_id =  answer_resp[\"chat_id\"]\n",
        "  url = \"https://dev.wapp.im/v3/instance9/status?full=1&token=Es7OhIYSuG2N-klS&\"\n",
        "  resp_status = requests.request(\"GET\", url, headers=headers, data=payload)\n",
        "  qr_code = json.loads(resp_status.text)\n",
        "  q_code = qr_code[\"qrCode\"]\n",
        "  q_code = q_code.replace(\"data:image/png;base64,\",\"\")\n",
        "  qr_2 = base64.b64decode(q_code)\n",
        "  img = Image.open(io.BytesIO(qr_2))\n",
        "  imagePath = ('/content/'+ 'qrcode') # здесь лучше записать директорию в переменных\n",
        "  img.save(imagePath, 'png')\n",
        "\n",
        "  return img"
      ],
      "metadata": {
        "id": "g6YC6sG2jArU"
      },
      "execution_count": 14,
      "outputs": []
    },
    {
      "cell_type": "code",
      "source": [
        "get_answer(get_test_req)"
      ],
      "metadata": {
        "id": "hvu7rPrJjZHH",
        "outputId": "177b3eb7-4645-44ff-de9d-25d70afaae0b",
        "colab": {
          "base_uri": "https://localhost:8080/",
          "height": 245
        }
      },
      "execution_count": 16,
      "outputs": [
        {
          "output_type": "execute_result",
          "data": {
            "image/png": "[encoded data removed]",
            "text/plain": [
              "<PIL.PngImagePlugin.PngImageFile image mode=RGBA size=228x228 at 0x7F3728175850>"
            ]
          },
          "metadata": {},
          "execution_count": 16
        }
      ]
    }
  ]
}